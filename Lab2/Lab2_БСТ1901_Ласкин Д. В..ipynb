{
 "cells": [
  {
   "cell_type": "markdown",
   "id": "outstanding-performer",
   "metadata": {},
   "source": [
    "# Лабораторная работа №2\n",
    "## Выполнил студент группы БСТ1901 Ласкин Д. В.\n",
    "#### Реализовать методы поиска в соответствии с заданием. Организовать генерацию начального набора случайных данных. Для всех вариантов добавить реализацию добавления, поиска и удаления элементов. Оценить время работы каждого алгоритма поиска и сравнить его со временем работы стандартной функции поиска, используемой в выбранном языке программирования.\n",
    "#### Задание 1"
   ]
  },
  {
   "cell_type": "code",
   "execution_count": null,
   "id": "coral-netscape",
   "metadata": {},
   "outputs": [],
   "source": [
    "# Бинарный поиск\n",
    "def binary_search(arr, val):\n",
    "    arr.sort()\n",
    "    left = 0\n",
    "    right = len(arr) - 1\n",
    "    centr = (len(arr) - 1) // 2\n",
    "    while (centr >= 0):\n",
    "        if (val == arr[centr]):\n",
    "            return centr\n",
    "        elif (val > arr[centr]):\n",
    "            left, centr = centr + 1, (right + centr + 1) // 2\n",
    "        elif (val < arr[centr]):\n",
    "            right, centr =  centr - 1, (left + centr - 1) // 2\n",
    "    return -1"
   ]
  },
  {
   "cell_type": "code",
   "execution_count": null,
   "id": "reduced-retention",
   "metadata": {},
   "outputs": [],
   "source": [
    "# Интерполяционный поиск\n",
    "def interpolation_search(arr, val):\n",
    "    arr.sort()\n",
    "    left = 0\n",
    "    right = len(arr) - 1\n",
    "    while arr[left] < val and arr[right] > val:\n",
    "        centre = left + (val - arr[left]) * (right - left) // (arr[right] - arr[left])\n",
    "        if arr[centre] < val:\n",
    "            left += 1\n",
    "        elif arr[centre] > val:\n",
    "            right -= 1\n",
    "        else:\n",
    "            return centre\n",
    "    if arr[left] == val:\n",
    "        return left\n",
    "    elif arr[right] == val:\n",
    "        return right\n",
    "    return -1"
   ]
  },
  {
   "cell_type": "code",
   "execution_count": null,
   "id": "incorporated-afternoon",
   "metadata": {},
   "outputs": [],
   "source": [
    "# Фибоначчиев поиск\n",
    "def fibonacci_numbers(n):\n",
    "    if n == 0: return 0\n",
    "    f1 = 1\n",
    "    f2 = 1\n",
    "    for i in range (2, n + 1):\n",
    "        f1, f2 = f2, f1 + f2\n",
    "    return f2\n",
    "def fibonacci_search(arr, val, l = 0):\n",
    "    arr.sort()\n",
    "    i = 0\n",
    "    f = fibonacci_numbers(i)\n",
    "    while l + f < len(arr) and arr[l + f] < val:\n",
    "        i += 1\n",
    "        f = fibonacci_numbers(i)\n",
    "    if f + l < len(arr) and arr[f + l] == val:\n",
    "        return f + l\n",
    "    elif i == 1:\n",
    "        return -1\n",
    "    else:\n",
    "        return fibonacci_search(arr, val, i - 1)"
   ]
  },
  {
   "cell_type": "code",
   "execution_count": null,
   "id": "instrumental-novelty",
   "metadata": {},
   "outputs": [],
   "source": [
    "# Бинарное дерево поиска\n",
    "def binary_tree_make(arr):\n",
    "    # Инициализация дерева и его первого элемента - корня\n",
    "    tree = [arr[0]]\n",
    "    # i - индекс элемента исходного массива\n",
    "    for i in range(1, len(arr)):\n",
    "        # j - индекс элемента дерева\n",
    "        j = 0\n",
    "        while True:\n",
    "            # Выбор в какую сторону идти\n",
    "            if arr[i] > tree[j]:\n",
    "                # Получение индекса правого ребенка\n",
    "                j = 2 * j + 2\n",
    "                # Расширение дерева None'ами если нужно                \n",
    "                while (len(tree) <= j):\n",
    "                    tree.append(None)\n",
    "                # Проверка на то занята ли ячейка дерева\n",
    "                if tree[j] == None:\n",
    "                    # Если свободна - помещение в нее элемента\n",
    "                    tree[j] = arr[i]\n",
    "                    break\n",
    "            # Тот же самый процесс только в случае если идем влево\n",
    "            elif arr[i] <= tree[j]:\n",
    "                j = 2 * j + 1\n",
    "                while (len(tree) <= j):\n",
    "                    tree.append(None)\n",
    "                if tree[j] == None:\n",
    "                    tree[j] = arr[i]\n",
    "                    break\n",
    "    return tree\n",
    "def binary_tree_search(tree, val):\n",
    "    i = 0\n",
    "    while i < len(tree) and tree[i] != val and tree[i] != None:\n",
    "        if val > tree[i]:\n",
    "            i = 2 * i + 2\n",
    "        elif val <= tree[i]:\n",
    "            i = 2 * i + 1\n",
    "    if i > len(tree) or tree[i] == None:\n",
    "        return -1\n",
    "    elif tree[i] == val:\n",
    "        return i"
   ]
  }
 ],
 "metadata": {
  "kernelspec": {
   "display_name": "Python 3",
   "language": "python",
   "name": "python3"
  },
  "language_info": {
   "codemirror_mode": {
    "name": "ipython",
    "version": 3
   },
   "file_extension": ".py",
   "mimetype": "text/x-python",
   "name": "python",
   "nbconvert_exporter": "python",
   "pygments_lexer": "ipython3",
   "version": "3.9.2"
  }
 },
 "nbformat": 4,
 "nbformat_minor": 5
}
