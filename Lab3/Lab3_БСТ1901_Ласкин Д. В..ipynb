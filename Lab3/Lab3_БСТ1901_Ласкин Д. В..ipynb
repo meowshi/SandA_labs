{
 "cells": [
  {
   "cell_type": "markdown",
   "id": "hidden-professional",
   "metadata": {},
   "source": [
    "# Лабораторная работа №3. Методы поиска подстроки в строке\n",
    "## Выполнил студен группы БСТ1901 Ласкин Д. В."
   ]
  },
  {
   "cell_type": "markdown",
   "id": "physical-starter",
   "metadata": {},
   "source": [
    "### Задание 1\n",
    "#### Реализовать методы поиска подстроки в строке. Добавить возможность ввода строки и подстроки с клавиатуры. Предусмотреть возможность существования пробела. Реализовать возможность выбора опции чувствительности или нечувствительности к регистру. Оценить время работы каждого алгоритма поиска и сравнить его со временем работы стандартной функции поиска. \n",
    "### Алгоритмы:\n",
    "#### 1. Кнута-Морриса-Пратта\n",
    "#### 2. Упрощенный Бойера - Мура (Бойера - Мура - Хорспула)"
   ]
  },
  {
   "cell_type": "markdown",
   "id": "prescribed-infrared",
   "metadata": {},
   "source": [
    "### Алгоритм Кнута - Морриса - Пратта"
   ]
  },
  {
   "cell_type": "code",
   "execution_count": null,
   "id": "handed-championship",
   "metadata": {},
   "outputs": [],
   "source": [
    "def algorithm_KMP():\n",
    "    T = input(\"Введите строку: \")\n",
    "    S = input(\"Введите подстроку: \")\n",
    "    if len(T) < len(S):\n",
    "        print(\"Длина подстроки больше длины строки.\")\n",
    "        return -1\n",
    "    case_sensivity = input(\"Отключить чувствительность к регистру?\\n1. Да\\n2. Нет\\n\")\n",
    "    prefix_arr = [0] * len(S)\n",
    "    for i in range(1, len(S)):\n",
    "        prefix = suffix = \"\"\n",
    "        for j in range(1, i + 1):\n",
    "            prefix, suffix = prefix + S[j - 1], S[i - j + 1] + suffix\n",
    "            if prefix == suffix:\n",
    "                prefix_arr[i] = j\n",
    "    # i - указатель на элемент в строке\n",
    "    # j - указатель на элемент в подстроке\n",
    "    i = j = 0\n",
    "    if case_sensivity == \"2\":\n",
    "        while i < len(T) and j < len(S):\n",
    "            if T[i] == S[j]:\n",
    "                i += 1\n",
    "                j += 1\n",
    "            elif j == 0:\n",
    "                i += 1\n",
    "            else:\n",
    "                j = prefix_arr[j - 1]\n",
    "    else:\n",
    "        while i < len(T) and j < len(S):\n",
    "            if T[i].lower() == S[j].lower():\n",
    "                i += 1\n",
    "                j += 1\n",
    "            elif j == 0:\n",
    "                i += 1\n",
    "            else:\n",
    "                j = prefix_arr[j - 1]\n",
    "    if i == len(T) and j != len(S):\n",
    "        return -1\n",
    "    return i - j"
   ]
  },
  {
   "cell_type": "markdown",
   "id": "portable-measurement",
   "metadata": {},
   "source": [
    "### Алгоритм Бойера - Мура - Хорспула"
   ]
  },
  {
   "cell_type": "code",
   "execution_count": 4,
   "id": "juvenile-consumption",
   "metadata": {},
   "outputs": [],
   "source": [
    "def algorithm_BMH():\n",
    "    T = input(\"Введите строку: \")\n",
    "    S = input(\"Введите подстроку: \")\n",
    "    if len(T) < len(S):\n",
    "        print(\"Длина подстроки больше длины строки.\")\n",
    "        return -1\n",
    "    case_sensivity = input(\"Отключить чувствительность к регистру?\\n1. Да\\n2. Нет\\n\")\n",
    " N = len(S)\n",
    "    if case_sensivity == \"2\":\n",
    "        for i in range(N - 2, -1, -1):\n",
    "            if S[i] in table:\n",
    "                continue\n",
    "            else:\n",
    "                table[S[i]] = N - 1 - i\n",
    "        if not(S[N - 1] in table):\n",
    "            table[S[N - 1]] = N\n",
    "        i = j = N - 1\n",
    "        while i < len(T) and j > -1:\n",
    "            if T[i] == S[j]:\n",
    "                i, j = i - 1, j - 1\n",
    "            else:\n",
    "                if T[i] in table:\n",
    "                    i += table[T[i]]\n",
    "                else:\n",
    "                    i += N\n",
    "    else:\n",
    "        for i in range(N - 2, -1, -1):\n",
    "            if S[i].lower() in table:\n",
    "                continue\n",
    "            else:\n",
    "                table[S[i].lower()] = N - 1 - i\n",
    "        if not(S[N - 1].lower() in table):\n",
    "            table[S[N - 1].lower()] = N\n",
    "        i = j = N - 1\n",
    "        while i < len(T) and j > -1:\n",
    "            if T[i].lower() == S[j].lower():\n",
    "                i, j = i - 1, j - 1\n",
    "            else:\n",
    "                if T[i].lower() in table:\n",
    "                    i += table[T[i].lower()]\n",
    "                else:\n",
    "                    i += N\n",
    "    if j == -1:\n",
    "        return i + 1\n",
    "    else:\n",
    "        return - 1"
   ]
  }
 ],
 "metadata": {
  "kernelspec": {
   "name": "python391jvsc74a57bd0251e81559002ddd7b2bf032dcaac0eab8c07dc3f187a921f1aa359dc2a69befe",
   "display_name": "Python 3.9.1 64-bit"
  },
  "language_info": {
   "codemirror_mode": {
    "name": "ipython",
    "version": 3
   },
   "file_extension": ".py",
   "mimetype": "text/x-python",
   "name": "python",
   "nbconvert_exporter": "python",
   "pygments_lexer": "ipython3",
   "version": "3.9.1"
  },
  "metadata": {
   "interpreter": {
    "hash": "251e81559002ddd7b2bf032dcaac0eab8c07dc3f187a921f1aa359dc2a69befe"
   }
  }
 },
 "nbformat": 4,
 "nbformat_minor": 5
}