{
 "cells": [
  {
   "cell_type": "markdown",
   "id": "hidden-professional",
   "metadata": {},
   "source": [
    "# Лабораторная работа №3. Методы поиска подстроки в строке\n",
    "## Выполнил студен группы БСТ1901 Ласкин Д. В."
   ]
  },
  {
   "cell_type": "markdown",
   "id": "physical-starter",
   "metadata": {},
   "source": [
    "### Задание 1\n",
    "#### Реализовать методы поиска подстроки в строке. Добавить возможность ввода строки и подстроки с клавиатуры. Предусмотреть возможность существования пробела. Реализовать возможность выбора опции чувствительности или нечувствительности к регистру. Оценить время работы каждого алгоритма поиска и сравнить его со временем работы стандартной функции поиска. \n",
    "### Алгоритмы:\n",
    "#### 1. Кнута-Морриса-Пратта\n",
    "#### 2. Упрощенный Бойера - Мура (Бойера - Мура - Хорспула)"
   ]
  },
  {
   "cell_type": "code",
   "execution_count": null,
   "id": "handed-championship",
   "metadata": {},
   "outputs": [],
   "source": [
    "# Начальные варианты\n",
    "# Алгоритм Кнута-Морриса-Пратта\n",
    "def algorithm_KMP(T, S):\n",
    "    prefix_arr = [0] * len(S)\n",
    "    for i in range(1, len(S)):\n",
    "        prefix = suffix = \"\"\n",
    "        for j in range(1, i + 1):\n",
    "            prefix, suffix = prefix + S[j - 1], S[i - j + 1] + suffix\n",
    "            if prefix == suffix:\n",
    "                prefix_arr[i] = j\n",
    "    # i - указатель на элемент в строке\n",
    "    # j - указатель на элемент в подстроке\n",
    "    i = j = 0\n",
    "    while i < len(T) and j < len(S):\n",
    "        if T[i] == S[j] or j == 0:\n",
    "            i += 1\n",
    "            j += 1\n",
    "        else:\n",
    "            j = prefix_arr[j - 1]\n",
    "    if i == len(T) and j != len(S):\n",
    "        return -1\n",
    "    return i - j\n",
    "# Алгоритм Бойера - Мура - Хорспула\n",
    "def algorithm_BMH(T, S):\n",
    "    table = {}\n",
    "    N = len(S)\n",
    "    for i in range(N - 2, -1, -1):\n",
    "        if S[i] in table:\n",
    "            continue\n",
    "        else:\n",
    "            table[S[i]] = N - 1 - i\n",
    "    if not(S[N - 1] in table):\n",
    "        table[S[N - 1]] = N\n",
    "    i = j = N - 1\n",
    "    while i < len(T) and j > -1:\n",
    "        if T[i] == S[j]:\n",
    "            i, j = i - 1, j - 1\n",
    "        else:\n",
    "            if T[i] in table:\n",
    "                i += table[T[i]]\n",
    "            else:\n",
    "                i += N\n",
    "    if j == -1:\n",
    "        return i + 1\n",
    "    else:\n",
    "        return - 1"
   ]
  }
 ],
 "metadata": {
  "kernelspec": {
   "display_name": "Python 3",
   "language": "python",
   "name": "python3"
  },
  "language_info": {
   "codemirror_mode": {
    "name": "ipython",
    "version": 3
   },
   "file_extension": ".py",
   "mimetype": "text/x-python",
   "name": "python",
   "nbconvert_exporter": "python",
   "pygments_lexer": "ipython3",
   "version": "3.9.2"
  }
 },
 "nbformat": 4,
 "nbformat_minor": 5
}
