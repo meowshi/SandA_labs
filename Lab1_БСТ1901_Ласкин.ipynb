{
 "cells": [
  {
   "cell_type": "code",
   "execution_count": null,
   "id": "unable-butterfly",
   "metadata": {},
   "outputs": [],
   "source": [
    "# Лабораторная работа №1\n",
    "## Выполнил студент группы БСТ1901 Ласкин Д. В.\n",
    "### Задание №1\n",
    "#### Написать программу выводящую \"Hello, World\""
   ]
  },
  {
   "cell_type": "code",
   "execution_count": 2,
   "id": "laughing-baltimore",
   "metadata": {},
   "outputs": [
    {
     "name": "stdout",
     "output_type": "stream",
     "text": [
      "Hello, World\n"
     ]
    }
   ],
   "source": [
    "print(\"Hello, World\")"
   ]
  },
  {
   "cell_type": "code",
   "execution_count": null,
   "id": "hidden-chocolate",
   "metadata": {},
   "outputs": [],
   "source": [
    "### Задание №2\n",
    "#### Написать генератор случайных матриц(многомерных), который принимает\n",
    "#### опциональные параметры m, n, min_limit, max_limit, где m и n указывают размер\n",
    "#### матрицы, а min_lim и max_lim - минимальное и максимальное значение для\n",
    "#### генерируемого числа . По умолчанию при отсутствии параметров принимать следующие\n",
    "#### значения:\n",
    "#### m = 50\n",
    "#### n = 50\n",
    "#### min_limit = -250\n",
    "#### max_limit = 1000 + (номер своего варианта)"
   ]
  },
  {
   "cell_type": "code",
   "execution_count": null,
   "id": "naval-antenna",
   "metadata": {},
   "outputs": [],
   "source": [
    "def array_create(m = 50, n = 50, min_limit = -250, max_limit = 1008):\n",
    "    return [[random.randint(min_limit,max_limit) for i in range(m)] for j in range(n)]"
   ]
  },
  {
   "cell_type": "code",
   "execution_count": null,
   "id": "together-cricket",
   "metadata": {},
   "outputs": [],
   "source": [
    "### Задание №3\n",
    "#### Реализовать методы сортировки строк числовой матрицы в соответствии с\n",
    "#### заданием. Оценить время работы каждого алгоритма сортировки и сравнить его со\n",
    "#### временем стандартной функции сортировки. Испытания проводить на сгенерированных\n",
    "#### матрицах."
   ]
  },
  {
   "cell_type": "code",
   "execution_count": null,
   "id": "understood-irish",
   "metadata": {},
   "outputs": [],
   "source": [
    "# Cортировка выбором\n",
    "def selection_sort(arr):\n",
    "    for i in range (len(arr) - 1):\n",
    "        min = i\n",
    "        for j in range (i+1,len(arr)):\n",
    "            if arr[j] < arr[min]:\n",
    "                min = j\n",
    "        arr[i], arr[min] = arr[min], arr[i]"
   ]
  },
  {
   "cell_type": "code",
   "execution_count": null,
   "id": "complicated-parks",
   "metadata": {},
   "outputs": [],
   "source": [
    "# Сортировка вставкой\n",
    "def insertion_sort(arr):\n",
    "    for i in range (1,len(arr)):\n",
    "        k = i\n",
    "        while (arr[k] < arr[k-1] and k > 0):\n",
    "            arr[k], arr[k-1] = arr[k-1], arr[k]\n",
    "            k -= 1"
   ]
  },
  {
   "cell_type": "code",
   "execution_count": null,
   "id": "noble-lodge",
   "metadata": {},
   "outputs": [],
   "source": [
    "# Сортировка обменом\n",
    "def bubble_sort(arr):\n",
    "    while True:\n",
    "        status = True\n",
    "        for i in range (len(arr) - 1):\n",
    "            if (arr[i] > arr[i+1]):\n",
    "                arr[i], arr[i+1] = arr[i+1], arr[i]\n",
    "                status = False\n",
    "        if status: break"
   ]
  },
  {
   "cell_type": "code",
   "execution_count": null,
   "id": "whole-harassment",
   "metadata": {},
   "outputs": [],
   "source": [
    "# Сортировка Шелла\n",
    "def shell_sort(arr):\n",
    "    d = len(arr) // 2\n",
    "    while d > 0:\n",
    "        for i in range (len(arr) - d):\n",
    "            k = i + d\n",
    "            while (arr[k-d] > arr[k] and k > 0):\n",
    "                arr[k], arr[k-d] = arr[k-d], arr[k]\n",
    "                k -= d\n",
    "        d //= 2"
   ]
  },
  {
   "cell_type": "code",
   "execution_count": null,
   "id": "varying-thesis",
   "metadata": {},
   "outputs": [],
   "source": [
    "# Быстрая сортировка\n",
    "def quick_sort(arr, left = 0, right = -1):\n",
    "    if (right == -1): right = len(arr) - 1\n",
    "    if left >= right: return\n",
    "    l = arr[(left + right) // 2]\n",
    "    i, j = left, right\n",
    "    while i <= j:\n",
    "        while arr[i] < l: i += 1\n",
    "        while arr[j] > l: j -= 1\n",
    "        if i <= j:\n",
    "            arr[i], arr[j] = arr[j], arr[i]\n",
    "            i, j = i + 1,j - 1           \n",
    "    quick_sort(arr, left, j)\n",
    "    quick_sort(arr, i, right)"
   ]
  }
 ],
 "metadata": {
  "kernelspec": {
   "display_name": "Python 3",
   "language": "python",
   "name": "python3"
  },
  "language_info": {
   "codemirror_mode": {
    "name": "ipython",
    "version": 3
   },
   "file_extension": ".py",
   "mimetype": "text/x-python",
   "name": "python",
   "nbconvert_exporter": "python",
   "pygments_lexer": "ipython3",
   "version": "3.9.1"
  }
 },
 "nbformat": 4,
 "nbformat_minor": 5
}
