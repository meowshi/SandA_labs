{
 "cells": [
  {
   "cell_type": "markdown",
   "id": "severe-discretion",
   "metadata": {},
   "source": [
    "# Задачи №2\n",
    "## Выполнил студент группы БСТ1901 Ласкин Д. В."
   ]
  },
  {
   "cell_type": "code",
   "execution_count": null,
   "id": "accepting-verse",
   "metadata": {},
   "outputs": [],
   "source": [
    "# Задание 1\n",
    "def triangle_exist(a, b , c):\n",
    "    return a < c + b and b < a + c and c < a + b\n",
    "def max_perimetr(arr):\n",
    "    arr.sort(reverse=True)\n",
    "    for i in range (len(arr) - 2):\n",
    "        if triangle_exist(arr[i], arr[i+1],arr[i+2]): \n",
    "            return arr[i] + arr[i+1] + arr[i+2]\n",
    "    return 0\n",
    "# Задание 3\n",
    "def matrix_diag_sort(mat):\n",
    "    for line in range(len(mat) - 1):\n",
    "        i, j = line + 1, 1\n",
    "        while True:\n",
    "            status = True\n",
    "            while (i < len(mat) and j < len(mat[0])):\n",
    "                if mat[i-1][j-1] > mat[i][j]: \n",
    "                    mat[i-1][j-1], mat[i][j] = mat[i][j], mat[i-1][j-1]\n",
    "                    status = False\n",
    "                i, j = i+1, j+1\n",
    "            if status: break\n",
    "            i, j = line + 1, 1\n",
    "    for col in range(1, len(mat[0])-1):\n",
    "        i, j = 1, col + 1\n",
    "        while True:\n",
    "            status = True\n",
    "            while (i < len(mat) and j < len(mat[0])):\n",
    "                if mat[i-1][j-1] > mat[i][j]: \n",
    "                    mat[i-1][j-1], mat[i][j] = mat[i][j], mat[i-1][j-1]\n",
    "                    status = False\n",
    "                i, j = i+1, j+1\n",
    "            if status: break\n",
    "            i, j = 1, col + 1\n",
    "    return mat\n",
    "# Задание 2\n",
    "def max_number(nums):\n",
    "    num = \"\"\n",
    "    while(len(nums) > 0):\n",
    "        max = nums[0]\n",
    "        for i in range (1, len(nums)):\n",
    "            if int(str(max) + str(nums[i])) > int(str(nums[i]) + str(max)):\n",
    "                continue\n",
    "            else:\n",
    "                max = nums[i]\n",
    "        num += str(max)\n",
    "        nums.remove(max)\n",
    "    return num"
   ]
  }
 ],
 "metadata": {
  "kernelspec": {
   "display_name": "Python 3",
   "language": "python",
   "name": "python3"
  },
  "language_info": {
   "codemirror_mode": {
    "name": "ipython",
    "version": 3
   },
   "file_extension": ".py",
   "mimetype": "text/x-python",
   "name": "python",
   "nbconvert_exporter": "python",
   "pygments_lexer": "ipython3",
   "version": "3.9.2"
  }
 },
 "nbformat": 4,
 "nbformat_minor": 5
}
